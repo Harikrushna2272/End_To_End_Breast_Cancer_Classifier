{
 "cells": [
  {
   "cell_type": "code",
   "execution_count": 1,
   "id": "3acb8dd2",
   "metadata": {},
   "outputs": [
    {
     "data": {
      "text/plain": [
       "9"
      ]
     },
     "execution_count": 1,
     "metadata": {},
     "output_type": "execute_result"
    }
   ],
   "source": [
    "4+5"
   ]
  },
  {
   "cell_type": "code",
   "execution_count": 2,
   "id": "45ee4146",
   "metadata": {},
   "outputs": [],
   "source": [
    "import gdown\n"
   ]
  },
  {
   "cell_type": "code",
   "execution_count": 4,
   "id": "ef74c159",
   "metadata": {},
   "outputs": [],
   "source": [
    "url = \"https://drive.google.com/file/d/1Gz9eEwvMF5oiWyQkM161mETD73XW8FvE/view?usp=sharing\""
   ]
  },
  {
   "cell_type": "code",
   "execution_count": 5,
   "id": "ffdb15bd",
   "metadata": {},
   "outputs": [
    {
     "data": {
      "text/plain": [
       "['https:',\n",
       " '',\n",
       " 'drive.google.com',\n",
       " 'file',\n",
       " 'd',\n",
       " '1Gz9eEwvMF5oiWyQkM161mETD73XW8FvE',\n",
       " 'view?usp=sharing']"
      ]
     },
     "execution_count": 5,
     "metadata": {},
     "output_type": "execute_result"
    }
   ],
   "source": [
    "url.split('/')"
   ]
  },
  {
   "cell_type": "code",
   "execution_count": 6,
   "id": "8266686f",
   "metadata": {},
   "outputs": [],
   "source": [
    "file_id = url.split('/')[-2]"
   ]
  },
  {
   "cell_type": "code",
   "execution_count": 7,
   "id": "576d5226",
   "metadata": {},
   "outputs": [
    {
     "data": {
      "text/plain": [
       "'1Gz9eEwvMF5oiWyQkM161mETD73XW8FvE'"
      ]
     },
     "execution_count": 7,
     "metadata": {},
     "output_type": "execute_result"
    }
   ],
   "source": [
    "file_id"
   ]
  },
  {
   "cell_type": "code",
   "execution_count": 8,
   "id": "d31c55ef",
   "metadata": {},
   "outputs": [
    {
     "name": "stderr",
     "output_type": "stream",
     "text": [
      "Downloading...\n",
      "From (original): https://drive.google.com/uc?/export=download&id=1Gz9eEwvMF5oiWyQkM161mETD73XW8FvE\n",
      "From (redirected): https://drive.google.com/uc?%2Fexport=download&id=1Gz9eEwvMF5oiWyQkM161mETD73XW8FvE&confirm=t&uuid=fa680af2-9af8-41f5-92f9-9446635ca2c8\n",
      "To: /Users/harikrushna/Documents/harikrushna_goti/Natural_language_processing/NLP_projects/project_structure/research/cheast_cancer.zip\n",
      "100%|██████████| 30.7M/30.7M [00:09<00:00, 3.11MB/s]\n"
     ]
    },
    {
     "data": {
      "text/plain": [
       "'cheast_cancer.zip'"
      ]
     },
     "execution_count": 8,
     "metadata": {},
     "output_type": "execute_result"
    }
   ],
   "source": [
    "prefix = 'https://drive.google.com/uc?/export=download&id='\n",
    "gdown.download(prefix+file_id, \"cheast_cancer.zip\")"
   ]
  },
  {
   "cell_type": "code",
   "execution_count": null,
   "id": "3fdb1e9e",
   "metadata": {},
   "outputs": [],
   "source": []
  }
 ],
 "metadata": {
  "kernelspec": {
   "display_name": "Python 3",
   "language": "python",
   "name": "python3"
  },
  "language_info": {
   "codemirror_mode": {
    "name": "ipython",
    "version": 3
   },
   "file_extension": ".py",
   "mimetype": "text/x-python",
   "name": "python",
   "nbconvert_exporter": "python",
   "pygments_lexer": "ipython3",
   "version": "3.12.4"
  }
 },
 "nbformat": 4,
 "nbformat_minor": 5
}
